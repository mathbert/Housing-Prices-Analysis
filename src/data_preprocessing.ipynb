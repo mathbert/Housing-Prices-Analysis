{
 "cells": [
  {
   "cell_type": "markdown",
   "metadata": {},
   "source": [
    "## Code for preprocessing steps of the raw dataset"
   ]
  },
  {
   "cell_type": "markdown",
   "metadata": {},
   "source": [
    "### Only including entries for town \"BEDOK\""
   ]
  },
  {
   "cell_type": "code",
   "execution_count": 5,
   "metadata": {},
   "outputs": [
    {
     "name": "stdout",
     "output_type": "stream",
     "text": [
      "Preprocessed data saved to ../data/processed/bedok_processed.csv\n"
     ]
    }
   ],
   "source": [
    "import pandas as pd\n",
    "\n",
    "input_file_path = \"../data/raw/ALL_Prices_1990_2021_mar.csv\"\n",
    "output_file_path = \"../data/processed/bedok_processed.csv\"\n",
    "\n",
    "# Read the CSV file into a DataFrame\n",
    "df = pd.read_csv(input_file_path)\n",
    "\n",
    "# Filter the DataFrame for entries where the town is \"BEDOK\"\n",
    "df_bedok = df[df[\"town\"] == \"BEDOK\"].copy()\n",
    "\n",
    "# Create a timestamp column by converting the \"month\" column to datetime.\n",
    "df_bedok[\"timestamp\"] = pd.to_datetime(df_bedok[\"month\"], format=\"%Y-%m\")\n",
    "\n",
    "# Select only the necessary columns: the timestamp and the price per square meter\n",
    "df_bedok = df_bedok[[\"timestamp\", \"price_psm\"]]\n",
    "\n",
    "# Set the timestamp column as the DataFrame index for resampling\n",
    "df_bedok.set_index(\"timestamp\", inplace=True)\n",
    "\n",
    "# Aggregate the data to get a single value per month (using the mean price per sqm)\n",
    "df_monthly = df_bedok.resample(\"MS\").mean()\n",
    "\n",
    "# Reset the index so that timestamp is a column again\n",
    "df_monthly.reset_index(inplace=True)\n",
    "\n",
    "# Save the aggregated monthly data to a new CSV file in the preprocessed folder\n",
    "df_monthly.to_csv(output_file_path, index=False, date_format=\"%Y-%m\")\n",
    "\n",
    "print(f\"Preprocessed data saved to {output_file_path}\")"
   ]
  }
 ],
 "metadata": {
  "kernelspec": {
   "display_name": "ntnu_std",
   "language": "python",
   "name": "python3"
  },
  "language_info": {
   "codemirror_mode": {
    "name": "ipython",
    "version": 3
   },
   "file_extension": ".py",
   "mimetype": "text/x-python",
   "name": "python",
   "nbconvert_exporter": "python",
   "pygments_lexer": "ipython3",
   "version": "3.11.11"
  }
 },
 "nbformat": 4,
 "nbformat_minor": 2
}
